{
 "cells": [
  {
   "cell_type": "code",
   "execution_count": 1,
   "id": "bb7a3cbb-4a80-4448-ab70-e3d10f8bd9ee",
   "metadata": {},
   "outputs": [
    {
     "name": "stdout",
     "output_type": "stream",
     "text": [
      "hello world\n"
     ]
    }
   ],
   "source": [
    "print('hello world')"
   ]
  },
  {
   "cell_type": "code",
   "execution_count": 2,
   "id": "0e9677d7-fe44-4b30-a069-df08a01a5b05",
   "metadata": {},
   "outputs": [
    {
     "name": "stdout",
     "output_type": "stream",
     "text": [
      "My age is: 27\n"
     ]
    }
   ],
   "source": [
    "age=27\n",
    "print('My age is:',age)"
   ]
  },
  {
   "cell_type": "code",
   "execution_count": 3,
   "id": "24c02511-d225-43db-90c8-6b30859e93e6",
   "metadata": {},
   "outputs": [
    {
     "name": "stdout",
     "output_type": "stream",
     "text": [
      "My age is:27\n"
     ]
    }
   ],
   "source": [
    "print(f'My age is:{age}')"
   ]
  },
  {
   "cell_type": "code",
   "execution_count": 2,
   "id": "78ba1918-8d3f-4993-90a9-7b0a12eb01e6",
   "metadata": {},
   "outputs": [
    {
     "name": "stdout",
     "output_type": "stream",
     "text": [
      "My age is 27 and I have completed my degree of BE with the name of apurv\n"
     ]
    }
   ],
   "source": [
    "name='apurv'\n",
    "age=27\n",
    "degree='BE'\n",
    "print('My age is {} and I have completed my degree of {} with the name of {}'.format(age,degree,name))"
   ]
  },
  {
   "cell_type": "code",
   "execution_count": 6,
   "id": "10c7d6b9-c568-4e2f-9568-f613bd0a7b35",
   "metadata": {},
   "outputs": [
    {
     "name": "stdin",
     "output_type": "stream",
     "text": [
      "Enter your age 33\n"
     ]
    },
    {
     "name": "stdout",
     "output_type": "stream",
     "text": [
      "You are young blood\n"
     ]
    }
   ],
   "source": [
    "age=int(input('Enter your age'))\n",
    "if age>=18 and age<=45:\n",
    "    print('You are young blood')\n",
    "    \n",
    "else:\n",
    "    print('You are old man!!')\n"
   ]
  },
  {
   "cell_type": "code",
   "execution_count": 11,
   "id": "92119220-7765-44a2-8b95-2994d88ca63d",
   "metadata": {},
   "outputs": [
    {
     "name": "stdin",
     "output_type": "stream",
     "text": [
      "Enter the product price 5000\n"
     ]
    },
    {
     "name": "stdout",
     "output_type": "stream",
     "text": [
      "congrats you get 20%off! You now have to pay: 4000.0\n"
     ]
    }
   ],
   "source": [
    "price=int(input('Enter the product price'))\n",
    "if price>=1000:\n",
    "    price1=price*0.8\n",
    "    print('congrats you get 20%off! You now have to pay:',price1)\n",
    "elif price<1000:\n",
    "    price2=price*0.7\n",
    "    print('congrats you get 30%off! You now have to pay:',price2)\n",
    "    "
   ]
  },
  {
   "cell_type": "code",
   "execution_count": null,
   "id": "10566d4a-f7d0-4642-9f91-59623c7d027f",
   "metadata": {},
   "outputs": [],
   "source": []
  }
 ],
 "metadata": {
  "kernelspec": {
   "display_name": "Python 3 (ipykernel)",
   "language": "python",
   "name": "python3"
  },
  "language_info": {
   "codemirror_mode": {
    "name": "ipython",
    "version": 3
   },
   "file_extension": ".py",
   "mimetype": "text/x-python",
   "name": "python",
   "nbconvert_exporter": "python",
   "pygments_lexer": "ipython3",
   "version": "3.10.8"
  }
 },
 "nbformat": 4,
 "nbformat_minor": 5
}
